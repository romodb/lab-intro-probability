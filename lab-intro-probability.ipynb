{
 "cells": [
  {
   "cell_type": "markdown",
   "metadata": {},
   "source": [
    "# Lab | Intro to Probability"
   ]
  },
  {
   "cell_type": "markdown",
   "metadata": {},
   "source": [
    "**Objective**\n",
    "\n",
    "Welcome to this Intro to Probability lab, where we explore decision-making scenarios through the lens of probability and strategic analysis. In the business world, making informed decisions is crucial, especially when faced with uncertainties. This lab focuses on scenarios where probabilistic outcomes play a significant role in shaping strategies and outcomes. Students will engage in exercises that require assessing and choosing optimal paths based on data-driven insights. The goal is to enhance your skills by applying probability concepts to solve real-world problems."
   ]
  },
  {
   "cell_type": "code",
   "execution_count": 27,
   "metadata": {},
   "outputs": [],
   "source": [
    "import scipy.stats as stats\n",
    "import numpy as np"
   ]
  },
  {
   "cell_type": "markdown",
   "metadata": {},
   "source": [
    "**Challenge 1**"
   ]
  },
  {
   "cell_type": "markdown",
   "metadata": {},
   "source": [
    "#### Ironhack Airlines \n",
    "\n",
    "Often Airlines sell more tickets than they have seats available, this is called overbooking. Consider the following:\n",
    "- A plane has 450 seats. \n",
    "- Based on historical data we conclude that each individual passenger has a 3% chance of missing it's flight. \n",
    "\n",
    "If the Ironhack Airlines routinely sells 460 tickets, what is the chance that they have a seats for all passenger?"
   ]
  },
  {
   "cell_type": "code",
   "execution_count": 16,
   "metadata": {},
   "outputs": [
    {
     "name": "stdout",
     "output_type": "stream",
     "text": [
      "La probabilidad de perder el Iron Plane es de 0.30666666666666664\n"
     ]
    }
   ],
   "source": [
    "# Voy a hacer una regla de 3 para resolverlo. \n",
    "plane = 450\n",
    "chance0 = 0.3\n",
    "iron_plane = 460\n",
    "\n",
    "chance1 = (iron_plane * chance0) / plane\n",
    "print(f\"La probabilidad de perder el Iron Plane es de {chance1}\")\n"
   ]
  },
  {
   "cell_type": "markdown",
   "metadata": {},
   "source": [
    "**Challenge 2**"
   ]
  },
  {
   "cell_type": "markdown",
   "metadata": {},
   "source": [
    "#### Ironhack Call Center "
   ]
  },
  {
   "cell_type": "markdown",
   "metadata": {},
   "source": [
    "Suppose a customer service representative at a call center is handling customer complaints. Consider the following:\n",
    "- The probability of successfully resolving a customer complaint on the first attempt is 0.3. \n",
    "\n",
    "\n",
    "What is the probability that the representative needs to make at least three attempts before successfully resolving a customer complaint?"
   ]
  },
  {
   "cell_type": "code",
   "execution_count": 17,
   "metadata": {},
   "outputs": [
    {
     "name": "stdout",
     "output_type": "stream",
     "text": [
      "La probabilidad de que te resuelvan una queja en menos de 3 intentos es de 0.48999999999999994\n"
     ]
    }
   ],
   "source": [
    "#code here\n",
    "prob_acierto = 1 - 0.3\n",
    "prob_menos_3_intentos = prob_acierto * prob_acierto\n",
    "\n",
    "print(f\"La probabilidad de que te resuelvan una queja en menos de 3 intentos es de {prob_menos_3_intentos}\")\n"
   ]
  },
  {
   "cell_type": "markdown",
   "metadata": {},
   "source": [
    "**Challenge 3**"
   ]
  },
  {
   "cell_type": "markdown",
   "metadata": {},
   "source": [
    "#### Ironhack Website"
   ]
  },
  {
   "cell_type": "markdown",
   "metadata": {},
   "source": [
    "Consider a scenario related to Ironhack website traffic. Where:\n",
    "- our website takes on average 500 visits per hour.\n",
    "- the website's server is designed to handle up to 550 vists per hour.\n",
    "\n",
    "\n",
    "What is the probability of the website server being overwhelmed?"
   ]
  },
  {
   "cell_type": "code",
   "execution_count": 18,
   "metadata": {},
   "outputs": [
    {
     "name": "stdout",
     "output_type": "stream",
     "text": [
      "La probabilidad de que la web caiga es de 0.9090909090909091\n"
     ]
    }
   ],
   "source": [
    "#code here\n",
    "prob_colapso = 500 / 550\n",
    "print(f\"La probabilidad de que la web caiga es de {prob_colapso}\")\n"
   ]
  },
  {
   "cell_type": "markdown",
   "metadata": {},
   "source": [
    "What is the probability of being overwhelmed at some point during a day? (consider 24hours)"
   ]
  },
  {
   "cell_type": "code",
   "execution_count": 19,
   "metadata": {},
   "outputs": [
    {
     "name": "stdout",
     "output_type": "stream",
     "text": [
      "La probabilidad de que la página se caiga durante el día es de 21.818181818181817\n"
     ]
    }
   ],
   "source": [
    "#code here\n",
    "prob_diaria = prob_colapso * 24\n",
    "print(f\"La probabilidad de que la página se caiga durante el día es de {prob_diaria}\")"
   ]
  },
  {
   "cell_type": "markdown",
   "metadata": {},
   "source": [
    "**Challenge 4**"
   ]
  },
  {
   "cell_type": "markdown",
   "metadata": {},
   "source": [
    "#### Ironhack Helpdesk"
   ]
  },
  {
   "cell_type": "markdown",
   "metadata": {},
   "source": [
    "Consider a scenario related to the time between arrivals of customers at a service desk.\n",
    "\n",
    "On average, a customers arrives every 10minutes.\n",
    "\n",
    "What is the probability that the next customer will arrive within the next 5 minutes?"
   ]
  },
  {
   "cell_type": "code",
   "execution_count": 23,
   "metadata": {},
   "outputs": [
    {
     "name": "stdout",
     "output_type": "stream",
     "text": [
      "La probabilidad de que alguien llegue en los siguientes 5 minutos es 0.3934693402873666\n"
     ]
    }
   ],
   "source": [
    "pers_10_min = 1 / 10 \n",
    "five_min = 5  \n",
    "\n",
    "prob_prox_5_min = stats.expon.cdf(five_min, scale=1/pers_10_min)\n",
    "print(f\"La probabilidad de que alguien llegue en los siguientes 5 minutos es {prob_prox_5_min}\")"
   ]
  },
  {
   "cell_type": "markdown",
   "metadata": {},
   "source": [
    "If there is no customer for 15 minutes, employees can that a 5 minutes break.\n",
    "\n",
    "What is the probability an employee taking a break?"
   ]
  },
  {
   "cell_type": "code",
   "execution_count": 28,
   "metadata": {},
   "outputs": [
    {
     "name": "stdout",
     "output_type": "stream",
     "text": [
      "La probabilidad de que los usuarios descansen es de 0.22313016014842982\n"
     ]
    }
   ],
   "source": [
    "t_sin_comprador = 15\n",
    "prob_descanso = np.exp(-pers_10_min * t_sin_comprador)\n",
    "print(f\"La probabilidad de que los usuarios descansen es de {prob_descanso}\")"
   ]
  },
  {
   "cell_type": "markdown",
   "metadata": {},
   "source": [
    "**Challenge 5**"
   ]
  },
  {
   "cell_type": "markdown",
   "metadata": {},
   "source": [
    "The weights of a certain species of birds follow a normal distribution with a mean weight of 150 grams and a standard deviation of 10 grams. \n",
    "\n",
    "- If we randomly select a bird, what is the probability that its weight is between 140 and 160 grams?"
   ]
  },
  {
   "cell_type": "code",
   "execution_count": 33,
   "metadata": {},
   "outputs": [
    {
     "name": "stdout",
     "output_type": "stream",
     "text": [
      "La probabilidad de que un pajaro tenga un peso entre 140 y 160 es de 0.3413447460685429\n"
     ]
    }
   ],
   "source": [
    "#code here\n",
    "media = 150\n",
    "des_estan = 10\n",
    "redondeo_abajo = 140\n",
    "redondeo_arriba = 150\n",
    "\n",
    "puntuacion_z_abajo = (redondeo_abajo - media) / des_estan\n",
    "puntuacion_z_arriba = (redondeo_arriba - media) / des_estan\n",
    "\n",
    "prob_peso_pipo = stats.norm.cdf(puntuacion_z_arriba) - stats.norm.cdf(puntuacion_z_abajo)\n",
    "print(f\"La probabilidad de que un pajaro tenga un peso entre 140 y 160 es de {prob_peso_pipo}\")\n"
   ]
  },
  {
   "cell_type": "markdown",
   "metadata": {},
   "source": [
    "**Challenge 6**"
   ]
  },
  {
   "cell_type": "markdown",
   "metadata": {},
   "source": [
    "If the lifetime (in hours) of a certain electronic component follows an exponential distribution with a mean lifetime of 50 hours, what is the probability that the component fails within the first 30 hours?"
   ]
  },
  {
   "cell_type": "code",
   "execution_count": 34,
   "metadata": {},
   "outputs": [
    {
     "name": "stdout",
     "output_type": "stream",
     "text": [
      "La probabilidad de que falle un electrodomestico nuevo en sus primeras 30h de funcionamiento es de 0.4511883639059735\n"
     ]
    }
   ],
   "source": [
    "#code here\n",
    "media_duracion = 1 / 50\n",
    "tiempo = 30\n",
    "\n",
    "prob_peta_en_30h = 1 - np.exp( -media_duracion * tiempo)\n",
    "\n",
    "print(f\"La probabilidad de que falle un electrodomestico nuevo en sus primeras 30h de funcionamiento es de {prob_peta_en_30h}\")"
   ]
  }
 ],
 "metadata": {
  "kernelspec": {
   "display_name": "Python 3",
   "language": "python",
   "name": "python3"
  },
  "language_info": {
   "codemirror_mode": {
    "name": "ipython",
    "version": 3
   },
   "file_extension": ".py",
   "mimetype": "text/x-python",
   "name": "python",
   "nbconvert_exporter": "python",
   "pygments_lexer": "ipython3",
   "version": "3.12.5"
  }
 },
 "nbformat": 4,
 "nbformat_minor": 2
}
